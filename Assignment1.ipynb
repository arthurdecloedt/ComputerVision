{
 "cells": [
  {
   "cell_type": "code",
   "execution_count": null,
   "metadata": {
    "collapsed": true
   },
   "outputs": [],
   "source": [
    "import cv2\n",
    "from os import listdir\n",
    "import numpy as np\n",
    "import shutil\n",
    "\n",
    "lgr = listdir(\"./agr/\")\n",
    "\n",
    "ksize = (3, 3)\n",
    "anchor = (-1, -1)\n",
    "lgr.remove(\"blr\")\n",
    "lgr.sort(key = lambda x: int(x.split(\".\")[0]))\n",
    "lgr = lgr[0:300]\n",
    "i=5\n",
    "n=0\n",
    "for input in lgr:\n",
    "        n+=1\n",
    "        if n % 10 ==0:\n",
    "                i+=2\n",
    "        im = cv2.imread(\"./agr/\"+input)\n",
    "        blur = cv2.GaussianBlur(im, (i, i),0)\n",
    "        cv2.imwrite(\"./agr/blr/\"+input,blur)"
   ]
  },
  {
   "cell_type": "code",
   "execution_count": null,
   "metadata": {},
   "outputs": [],
   "source": [
    "import cv2\n",
    "from os import listdir\n",
    "import numpy as np\n",
    "import shutil\n",
    "\n",
    "lijst = listdir(\"./agr/blre/\")\n",
    "lgr= [i for i in lijst if i.endswith(\".jpg\")]\n",
    "ksize = (3, 3)\n",
    "anchor = (-1, -1)\n",
    "lgr.sort(key = lambda x: int(x.split(\".\")[0]))\n",
    "lgr = lgr[0:300]\n",
    "i=5\n",
    "n=0\n",
    "for input in lgr:\n",
    "        im = cv2.imread(\"./agr/\"+input)\n",
    "        blur = cv2.bilateralFilter(im,9,75,75)\n",
    "        cv2.imwrite(\"./agr/blre/\"+input,blur)\n",
    "        print input"
   ]
  },
  {
   "cell_type": "code",
   "execution_count": null,
   "metadata": {},
   "outputs": [],
   "source": [
    "import cv2\n",
    "from os import listdir\n",
    "import numpy as np\n",
    "import shutil\n",
    "\n",
    "lijst = listdir(\"./clr/\")\n",
    "lgr= [i for i in lijst if i.endswith(\".jpg\")]\n",
    "ksize = (3, 3)\n",
    "anchor = (-1, -1)\n",
    "lgr.sort(key = lambda x: int(x.split(\".\")[0]))\n",
    "lgr = lgr[0:300]\n",
    "n=0\n",
    "for input in lgr:\n",
    "    n+=1\n",
    "    im = cv2.imread(\"./clr/\" + input,0)\n",
    "    imc=cv2.imread(\"./clr/\" + input,1)\n",
    "    ret,thresh = cv2.threshold(im,200,255,cv2.THRESH_BINARY )\n",
    "    res=cv2.bitwise_and(imc,imc,mask = thresh)\n",
    "    cv2.imwrite(\"./tresh/\"+input,res)\n",
    "    print n"
   ]
  },
  {
   "cell_type": "code",
   "execution_count": null,
   "metadata": {},
   "outputs": [],
   "source": [
    "import cv2\n",
    "from os import listdir\n",
    "import numpy as np\n",
    "import shutil\n",
    "\n",
    "lijst = listdir(\"./clr/\")\n",
    "lgr = [i for i in lijst if i.endswith(\".jpg\")]\n",
    "ksize = (3, 3)\n",
    "anchor = (-1, -1)\n",
    "lgr.sort(key=lambda x: int(x.split(\".\")[0]))\n",
    "lgr = lgr[300:600]\n",
    "n = 0\n",
    "gr=[220, 220, 220]\n",
    "for input in lgr:\n",
    "    n += 1\n",
    "    im = cv2.imread(\"./clr/\" + input, 1)\n",
    "    imc = cv2.imread(\"./clr/\"+input,0)\n",
    "    frame_HSV = cv2.cvtColor(im, cv2.COLOR_BGR2HSV)\n",
    "    threshsv=cv2.inRange(frame_HSV, (0, 0, 200), (179, 255, 255));\n",
    "    res=cv2.bitwise_and(imc,imc,mask = threshsv)\n",
    "    print cv2.imwrite(\"./treshsv/\"+input,res)"
   ]
  },
  {
   "cell_type": "code",
   "execution_count": null,
   "metadata": {},
   "outputs": [],
   "source": [
    "import cv2\n",
    "from os import listdir\n",
    "import numpy as np\n",
    "import shutil\n",
    "\n",
    "lijst = listdir(\"./clr/\")\n",
    "lgr = [i for i in lijst if i.endswith(\".jpg\")]\n",
    "ksize = (3, 3)\n",
    "anchor = (-1, -1)\n",
    "lgr.sort(key=lambda x: int(x.split(\".\")[0]))\n",
    "lgr\n",
    "n = 0\n",
    "for input in lgr:\n",
    "    n += 1\n",
    "    im = cv2.imread(\"./clr/\" + input, 1)\n",
    "    imc = cv2.imread(\"./clr/\"+input)\n",
    "    frame_HSV = cv2.cvtColor(im, cv2.COLOR_BGR2HSV)\n",
    "    threshsv=cv2.inRange(frame_HSV, (0, 0, 200), (179, 255, 255));\n",
    "    res=cv2.bitwise_and(imc,imc,mask = threshsv)\n",
    "    edges = cv2.Canny(res, 100, 200)\n",
    "    print cv2.imwrite(\"./free/\"+input,edges)\n",
    "    print n"
   ]
  },
  {
   "cell_type": "code",
   "execution_count": null,
   "metadata": {},
   "outputs": [],
   "source": [
    "ffmpeg -framerate 30 -i %d.jpg -vcodec mpeg4 out.mp4"
   ]
  }
 ],
 "metadata": {
  "kernelspec": {
   "display_name": "Python 2",
   "language": "python",
   "name": "python2"
  },
  "language_info": {
   "codemirror_mode": {
    "name": "ipython",
    "version": 2.0
   },
   "file_extension": ".py",
   "mimetype": "text/x-python",
   "name": "python",
   "nbconvert_exporter": "python",
   "pygments_lexer": "ipython2",
   "version": "2.7.6"
  }
 },
 "nbformat": 4,
 "nbformat_minor": 0
}